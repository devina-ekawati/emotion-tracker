{
  "nbformat": 4,
  "nbformat_minor": 0,
  "metadata": {
    "colab": {
      "name": "Emotion Classifiation TFLite",
      "provenance": [],
      "collapsed_sections": []
    },
    "kernelspec": {
      "name": "python3",
      "display_name": "Python 3"
    },
    "accelerator": "GPU"
  },
  "cells": [
    {
      "cell_type": "code",
      "metadata": {
        "id": "7Bel2Y4GlVrd",
        "colab_type": "code",
        "outputId": "639f8be5-1b1c-49f6-9900-9fa10af4e6d9",
        "colab": {
          "base_uri": "https://localhost:8080/",
          "height": 119
        }
      },
      "source": [
        "!git clone https://github.com/muxspace/facial_expressions.git"
      ],
      "execution_count": 1,
      "outputs": [
        {
          "output_type": "stream",
          "text": [
            "Cloning into 'facial_expressions'...\n",
            "remote: Enumerating objects: 14214, done.\u001b[K\n",
            "remote: Total 14214 (delta 0), reused 0 (delta 0), pack-reused 14214\u001b[K\n",
            "Receiving objects: 100% (14214/14214), 239.65 MiB | 25.08 MiB/s, done.\n",
            "Resolving deltas: 100% (223/223), done.\n",
            "Checking out files: 100% (13996/13996), done.\n"
          ],
          "name": "stdout"
        }
      ]
    },
    {
      "cell_type": "code",
      "metadata": {
        "id": "xDPm-jp9q6JU",
        "colab_type": "code",
        "colab": {}
      },
      "source": [
        "!mkdir data"
      ],
      "execution_count": 0,
      "outputs": []
    },
    {
      "cell_type": "markdown",
      "metadata": {
        "id": "pT3lFx8Jo2J6",
        "colab_type": "text"
      },
      "source": [
        "## Categorize images into subfolders"
      ]
    },
    {
      "cell_type": "code",
      "metadata": {
        "id": "OiXqOrioot4l",
        "colab_type": "code",
        "colab": {}
      },
      "source": [
        "import os\n",
        "import csv\n",
        "import shutil\n",
        "\n",
        "from collections import defaultdict"
      ],
      "execution_count": 0,
      "outputs": []
    },
    {
      "cell_type": "code",
      "metadata": {
        "id": "zRSZTlicpI6s",
        "colab_type": "code",
        "colab": {}
      },
      "source": [
        "images = defaultdict(list)\n",
        "\n",
        "with open('facial_expressions/data/legend.csv', 'r') as csv_file:\n",
        "    csv_reader = csv.reader(csv_file)\n",
        "    next(csv_reader)\n",
        "    for _, image_filename, emotion_category in csv_reader:\n",
        "        images[emotion_category.lower()].append(image_filename)"
      ],
      "execution_count": 0,
      "outputs": []
    },
    {
      "cell_type": "code",
      "metadata": {
        "id": "e2k4NYyqtSqw",
        "colab_type": "code",
        "outputId": "b3fbc121-05da-46d5-cead-439402429e1e",
        "colab": {
          "base_uri": "https://localhost:8080/",
          "height": 34
        }
      },
      "source": [
        "images.keys()"
      ],
      "execution_count": 5,
      "outputs": [
        {
          "output_type": "execute_result",
          "data": {
            "text/plain": [
              "dict_keys(['anger', 'surprise', 'disgust', 'fear', 'neutral', 'happiness', 'sadness', 'contempt'])"
            ]
          },
          "metadata": {
            "tags": []
          },
          "execution_count": 5
        }
      ]
    },
    {
      "cell_type": "code",
      "metadata": {
        "id": "IIHdISXgsvuQ",
        "colab_type": "code",
        "colab": {
          "base_uri": "https://localhost:8080/",
          "height": 170
        },
        "outputId": "7f27f38b-51c2-46fa-a734-5a8d039b974f"
      },
      "source": [
        "total_images = 0\n",
        "\n",
        "for emotion_category, image_files in images.items():\n",
        "    print(emotion_category, len(image_files))\n",
        "    total_images += len(image_files)\n",
        "\n",
        "print(total_images)"
      ],
      "execution_count": 9,
      "outputs": [
        {
          "output_type": "stream",
          "text": [
            "anger 252\n",
            "surprise 368\n",
            "disgust 208\n",
            "fear 21\n",
            "neutral 6868\n",
            "happiness 5696\n",
            "sadness 268\n",
            "contempt 9\n",
            "13690\n"
          ],
          "name": "stdout"
        }
      ]
    },
    {
      "cell_type": "code",
      "metadata": {
        "id": "qK0G-YERpyM7",
        "colab_type": "code",
        "colab": {}
      },
      "source": [
        "data_basedir = 'data'\n",
        "image_source_basedir = 'facial_expressions/images'\n",
        "\n",
        "for emotion_category, image_files in images.items():\n",
        "    emotion_category_dir = os.path.join(data_basedir, emotion_category)\n",
        "    os.makedirs(emotion_category_dir)\n",
        "    \n",
        "    for image_file in image_files:\n",
        "        source = os.path.join(image_source_basedir, image_file)\n",
        "        destination = os.path.join(emotion_category_dir, image_file)\n",
        "        shutil.copyfile(source, destination)"
      ],
      "execution_count": 0,
      "outputs": []
    },
    {
      "cell_type": "code",
      "metadata": {
        "id": "S_D8N0Wwuj5W",
        "colab_type": "code",
        "colab": {}
      },
      "source": [
        "# Remove images categorized as contempt due to lack of data (only 9 images)\n",
        "!rm -rf data/contempt"
      ],
      "execution_count": 0,
      "outputs": []
    },
    {
      "cell_type": "markdown",
      "metadata": {
        "id": "h0-sXOzSt0M_",
        "colab_type": "text"
      },
      "source": [
        "##Train emotion classifier\n",
        "\n",
        "The model architecture is inspired from flower-recognizer"
      ]
    },
    {
      "cell_type": "code",
      "metadata": {
        "id": "0JlLoEN9uAr8",
        "colab_type": "code",
        "colab": {}
      },
      "source": [
        "import tensorflow as tf\n",
        "import numpy as np\n",
        "import matplotlib.pyplot as plt"
      ],
      "execution_count": 0,
      "outputs": []
    },
    {
      "cell_type": "code",
      "metadata": {
        "id": "PYfxPLPGqekC",
        "colab_type": "code",
        "outputId": "92034c49-6d50-410c-eaf3-a1f49f36495a",
        "colab": {
          "base_uri": "https://localhost:8080/",
          "height": 51
        }
      },
      "source": [
        "data_basedir = 'data'\n",
        "\n",
        "IMAGE_SIZE = 224\n",
        "BATCH_SIZE = 64\n",
        "\n",
        "datagen = tf.keras.preprocessing.image.ImageDataGenerator(\n",
        "    rescale=1./255, \n",
        "    validation_split=0.2)\n",
        "\n",
        "train_generator = datagen.flow_from_directory(\n",
        "    data_basedir,\n",
        "    target_size=(IMAGE_SIZE, IMAGE_SIZE),\n",
        "    batch_size=BATCH_SIZE, \n",
        "    subset='training')\n",
        "\n",
        "val_generator = datagen.flow_from_directory(\n",
        "    data_basedir,\n",
        "    target_size=(IMAGE_SIZE, IMAGE_SIZE),\n",
        "    batch_size=BATCH_SIZE, \n",
        "    subset='validation')"
      ],
      "execution_count": 0,
      "outputs": [
        {
          "output_type": "stream",
          "text": [
            "Found 10943 images belonging to 7 classes.\n",
            "Found 2731 images belonging to 7 classes.\n"
          ],
          "name": "stdout"
        }
      ]
    },
    {
      "cell_type": "code",
      "metadata": {
        "id": "VilbodQxt_Ap",
        "colab_type": "code",
        "outputId": "807b75a6-34e7-41f5-f37a-ea52c6ed0e25",
        "colab": {
          "base_uri": "https://localhost:8080/",
          "height": 34
        }
      },
      "source": [
        "for image_batch, label_batch in train_generator:\n",
        "  break\n",
        "image_batch.shape, label_batch.shape"
      ],
      "execution_count": 0,
      "outputs": [
        {
          "output_type": "execute_result",
          "data": {
            "text/plain": [
              "((64, 224, 224, 3), (64, 7))"
            ]
          },
          "metadata": {
            "tags": []
          },
          "execution_count": 9
        }
      ]
    },
    {
      "cell_type": "markdown",
      "metadata": {
        "id": "nYtV-oELuV5X",
        "colab_type": "text"
      },
      "source": [
        "Save labels file"
      ]
    },
    {
      "cell_type": "code",
      "metadata": {
        "colab_type": "code",
        "id": "-QFZIhWs4dsq",
        "outputId": "b1427668-40a3-448c-ea75-734859832dd3",
        "colab": {
          "base_uri": "https://localhost:8080/",
          "height": 34
        }
      },
      "source": [
        "print (train_generator.class_indices)\n",
        "labels = '\\n'.join(sorted(train_generator.class_indices.keys()))\n",
        "\n",
        "with open('labels.txt', 'w') as f:\n",
        "    f.write(labels)"
      ],
      "execution_count": 0,
      "outputs": [
        {
          "output_type": "stream",
          "text": [
            "{'anger': 0, 'disgust': 1, 'fear': 2, 'happiness': 3, 'neutral': 4, 'sadness': 5, 'surprise': 6}\n"
          ],
          "name": "stdout"
        }
      ]
    },
    {
      "cell_type": "code",
      "metadata": {
        "colab_type": "code",
        "id": "duxD_UDSOmng",
        "outputId": "7db380a0-832c-400d-f0c4-6bed3053bfc9",
        "colab": {
          "base_uri": "https://localhost:8080/",
          "height": 136
        }
      },
      "source": [
        "!cat labels.txt"
      ],
      "execution_count": 0,
      "outputs": [
        {
          "output_type": "stream",
          "text": [
            "anger\n",
            "disgust\n",
            "fear\n",
            "happiness\n",
            "neutral\n",
            "sadness\n",
            "surprise"
          ],
          "name": "stdout"
        }
      ]
    },
    {
      "cell_type": "markdown",
      "metadata": {
        "id": "vJHycNFGwn9l",
        "colab_type": "text"
      },
      "source": [
        "### Create base model using MobileNet"
      ]
    },
    {
      "cell_type": "code",
      "metadata": {
        "id": "0kWKsvC-uxCd",
        "colab_type": "code",
        "colab": {}
      },
      "source": [
        "IMG_SHAPE = (IMAGE_SIZE, IMAGE_SIZE, 3)\n",
        "\n",
        "# Create the base model from the pre-trained model MobileNet V2\n",
        "base_model = tf.keras.applications.MobileNetV2(input_shape=IMG_SHAPE,\n",
        "                                              include_top=False, \n",
        "                                              weights='imagenet')"
      ],
      "execution_count": 0,
      "outputs": []
    },
    {
      "cell_type": "code",
      "metadata": {
        "id": "5Ybzn9Y8wrl4",
        "colab_type": "code",
        "colab": {}
      },
      "source": [
        "base_model.trainable = False"
      ],
      "execution_count": 0,
      "outputs": []
    },
    {
      "cell_type": "markdown",
      "metadata": {
        "id": "yfLE4xPmwzo_",
        "colab_type": "text"
      },
      "source": [
        "Create emotion classification model on top base_model"
      ]
    },
    {
      "cell_type": "code",
      "metadata": {
        "id": "pjrZbKvnwytf",
        "colab_type": "code",
        "colab": {}
      },
      "source": [
        "model = tf.keras.Sequential([\n",
        "  base_model,\n",
        "  tf.keras.layers.Conv2D(32, 3, activation='relu'),\n",
        "  tf.keras.layers.Dropout(0.2),\n",
        "  tf.keras.layers.GlobalAveragePooling2D(),\n",
        "  tf.keras.layers.Dense(7, activation='softmax')\n",
        "])"
      ],
      "execution_count": 0,
      "outputs": []
    },
    {
      "cell_type": "code",
      "metadata": {
        "id": "-OaPW_YDxvBp",
        "colab_type": "code",
        "colab": {}
      },
      "source": [
        "model.compile(optimizer=tf.keras.optimizers.Adam(), \n",
        "              loss='categorical_crossentropy', \n",
        "              metrics=['accuracy'])"
      ],
      "execution_count": 0,
      "outputs": []
    },
    {
      "cell_type": "code",
      "metadata": {
        "id": "dMfNzESlx1pg",
        "colab_type": "code",
        "outputId": "e3a358a7-b475-43ef-f590-2c04c4fe4226",
        "colab": {
          "base_uri": "https://localhost:8080/",
          "height": 323
        }
      },
      "source": [
        "model.summary()"
      ],
      "execution_count": 0,
      "outputs": [
        {
          "output_type": "stream",
          "text": [
            "Model: \"sequential\"\n",
            "_________________________________________________________________\n",
            "Layer (type)                 Output Shape              Param #   \n",
            "=================================================================\n",
            "mobilenetv2_1.00_224 (Model) (None, 7, 7, 1280)        2257984   \n",
            "_________________________________________________________________\n",
            "conv2d (Conv2D)              (None, 5, 5, 32)          368672    \n",
            "_________________________________________________________________\n",
            "dropout (Dropout)            (None, 5, 5, 32)          0         \n",
            "_________________________________________________________________\n",
            "global_average_pooling2d (Gl (None, 32)                0         \n",
            "_________________________________________________________________\n",
            "dense (Dense)                (None, 7)                 231       \n",
            "=================================================================\n",
            "Total params: 2,626,887\n",
            "Trainable params: 368,903\n",
            "Non-trainable params: 2,257,984\n",
            "_________________________________________________________________\n"
          ],
          "name": "stdout"
        }
      ]
    },
    {
      "cell_type": "code",
      "metadata": {
        "id": "sdMlphLlx_HQ",
        "colab_type": "code",
        "outputId": "d51015b8-611a-4711-9b4e-bb35a0b9ba5b",
        "colab": {
          "base_uri": "https://localhost:8080/",
          "height": 34
        }
      },
      "source": [
        "print('Number of trainable variables = {}'.format(len(model.trainable_variables)))"
      ],
      "execution_count": 0,
      "outputs": [
        {
          "output_type": "stream",
          "text": [
            "Number of trainable variables = 4\n"
          ],
          "name": "stdout"
        }
      ]
    },
    {
      "cell_type": "code",
      "metadata": {
        "id": "1_K9dqDXyBew",
        "colab_type": "code",
        "outputId": "97982e5d-e0db-4af1-a2d5-b032b93cf773",
        "colab": {
          "base_uri": "https://localhost:8080/",
          "height": 357
        }
      },
      "source": [
        "epochs = 10\n",
        "\n",
        "history = model.fit(train_generator, \n",
        "                    steps_per_epoch=len(train_generator), \n",
        "                    epochs=epochs, \n",
        "                    validation_data=val_generator, \n",
        "                    validation_steps=len(val_generator))"
      ],
      "execution_count": 0,
      "outputs": [
        {
          "output_type": "stream",
          "text": [
            "Epoch 1/10\n",
            "171/171 [==============================] - 37s 216ms/step - loss: 0.8480 - accuracy: 0.7127 - val_loss: 0.6930 - val_accuracy: 0.7525\n",
            "Epoch 2/10\n",
            "171/171 [==============================] - 34s 201ms/step - loss: 0.6147 - accuracy: 0.7807 - val_loss: 0.6909 - val_accuracy: 0.7473\n",
            "Epoch 3/10\n",
            "171/171 [==============================] - 34s 201ms/step - loss: 0.5521 - accuracy: 0.8017 - val_loss: 0.5917 - val_accuracy: 0.8001\n",
            "Epoch 4/10\n",
            "171/171 [==============================] - 34s 200ms/step - loss: 0.5006 - accuracy: 0.8171 - val_loss: 0.5901 - val_accuracy: 0.7891\n",
            "Epoch 5/10\n",
            "171/171 [==============================] - 34s 201ms/step - loss: 0.4688 - accuracy: 0.8264 - val_loss: 0.6228 - val_accuracy: 0.7744\n",
            "Epoch 6/10\n",
            "171/171 [==============================] - 34s 201ms/step - loss: 0.4471 - accuracy: 0.8314 - val_loss: 0.6325 - val_accuracy: 0.7895\n",
            "Epoch 7/10\n",
            "171/171 [==============================] - 34s 200ms/step - loss: 0.4241 - accuracy: 0.8425 - val_loss: 0.5927 - val_accuracy: 0.7968\n",
            "Epoch 8/10\n",
            "171/171 [==============================] - 34s 200ms/step - loss: 0.3875 - accuracy: 0.8502 - val_loss: 0.6844 - val_accuracy: 0.7796\n",
            "Epoch 9/10\n",
            "171/171 [==============================] - 34s 200ms/step - loss: 0.3596 - accuracy: 0.8619 - val_loss: 0.6622 - val_accuracy: 0.7960\n",
            "Epoch 10/10\n",
            "171/171 [==============================] - 34s 199ms/step - loss: 0.3402 - accuracy: 0.8671 - val_loss: 0.6741 - val_accuracy: 0.7851\n"
          ],
          "name": "stdout"
        }
      ]
    },
    {
      "cell_type": "code",
      "metadata": {
        "id": "kn4NB0SQyCz_",
        "colab_type": "code",
        "outputId": "a2c1fd55-ad0f-4576-9aea-59131300824c",
        "colab": {
          "base_uri": "https://localhost:8080/",
          "height": 513
        }
      },
      "source": [
        "acc = history.history['accuracy']\n",
        "val_acc = history.history['val_accuracy']\n",
        "\n",
        "loss = history.history['loss']\n",
        "val_loss = history.history['val_loss']\n",
        "\n",
        "plt.figure(figsize=(8, 8))\n",
        "plt.subplot(2, 1, 1)\n",
        "plt.plot(acc, label='Training Accuracy')\n",
        "plt.plot(val_acc, label='Validation Accuracy')\n",
        "plt.legend(loc='lower right')\n",
        "plt.ylabel('Accuracy')\n",
        "plt.ylim([min(plt.ylim()),1])\n",
        "plt.title('Training and Validation Accuracy')\n",
        "\n",
        "plt.subplot(2, 1, 2)\n",
        "plt.plot(loss, label='Training Loss')\n",
        "plt.plot(val_loss, label='Validation Loss')\n",
        "plt.legend(loc='upper right')\n",
        "plt.ylabel('Cross Entropy')\n",
        "plt.ylim([0,1.0])\n",
        "plt.title('Training and Validation Loss')\n",
        "plt.xlabel('epoch')\n",
        "plt.show()"
      ],
      "execution_count": 0,
      "outputs": [
        {
          "output_type": "display_data",
          "data": {
            "image/png": "[encoded data removed]",
            "text/plain": [
              "<Figure size 576x576 with 2 Axes>"
            ]
          },
          "metadata": {
            "tags": [],
            "needs_background": "light"
          }
        }
      ]
    },
    {
      "cell_type": "markdown",
      "metadata": {
        "id": "jqpTLE2wz-L1",
        "colab_type": "text"
      },
      "source": [
        "### Fine-tuning"
      ]
    },
    {
      "cell_type": "code",
      "metadata": {
        "id": "3mAIU7K5z3yo",
        "colab_type": "code",
        "colab": {}
      },
      "source": [
        "base_model.trainable = True"
      ],
      "execution_count": 0,
      "outputs": []
    },
    {
      "cell_type": "code",
      "metadata": {
        "id": "Er-GIiML0B41",
        "colab_type": "code",
        "outputId": "fbd4ed62-b309-4794-86ac-ca2e75a98595",
        "colab": {
          "base_uri": "https://localhost:8080/",
          "height": 34
        }
      },
      "source": [
        "print(\"Number of layers in the base model: \", len(base_model.layers))\n",
        "\n",
        "# Fine tune from this layer onwards\n",
        "fine_tune_at = 100\n",
        "\n",
        "# Freeze all the layers before the `fine_tune_at` layer\n",
        "for layer in base_model.layers[:fine_tune_at]:\n",
        "  layer.trainable =  False"
      ],
      "execution_count": 0,
      "outputs": [
        {
          "output_type": "stream",
          "text": [
            "Number of layers in the base model:  155\n"
          ],
          "name": "stdout"
        }
      ]
    },
    {
      "cell_type": "code",
      "metadata": {
        "id": "CXDseoV00DcF",
        "colab_type": "code",
        "colab": {}
      },
      "source": [
        "model.compile(loss='categorical_crossentropy',\n",
        "              optimizer = tf.keras.optimizers.Adam(1e-5),\n",
        "              metrics=['accuracy'])"
      ],
      "execution_count": 0,
      "outputs": []
    },
    {
      "cell_type": "code",
      "metadata": {
        "id": "Uj6wso2L0GQb",
        "colab_type": "code",
        "outputId": "7c0b8387-df38-4dd2-ebf3-ccbd0fb73af4",
        "colab": {
          "base_uri": "https://localhost:8080/",
          "height": 323
        }
      },
      "source": [
        "model.summary()"
      ],
      "execution_count": 0,
      "outputs": [
        {
          "output_type": "stream",
          "text": [
            "Model: \"sequential\"\n",
            "_________________________________________________________________\n",
            "Layer (type)                 Output Shape              Param #   \n",
            "=================================================================\n",
            "mobilenetv2_1.00_224 (Model) (None, 7, 7, 1280)        2257984   \n",
            "_________________________________________________________________\n",
            "conv2d (Conv2D)              (None, 5, 5, 32)          368672    \n",
            "_________________________________________________________________\n",
            "dropout (Dropout)            (None, 5, 5, 32)          0         \n",
            "_________________________________________________________________\n",
            "global_average_pooling2d (Gl (None, 32)                0         \n",
            "_________________________________________________________________\n",
            "dense (Dense)                (None, 7)                 231       \n",
            "=================================================================\n",
            "Total params: 2,626,887\n",
            "Trainable params: 2,231,495\n",
            "Non-trainable params: 395,392\n",
            "_________________________________________________________________\n"
          ],
          "name": "stdout"
        }
      ]
    },
    {
      "cell_type": "code",
      "metadata": {
        "id": "aLKoriBq0LNV",
        "colab_type": "code",
        "outputId": "4dd1f58e-8007-4e25-d2aa-447a6097dbd0",
        "colab": {
          "base_uri": "https://localhost:8080/",
          "height": 34
        }
      },
      "source": [
        "print('Number of trainable variables = {}'.format(len(model.trainable_variables)))"
      ],
      "execution_count": 0,
      "outputs": [
        {
          "output_type": "stream",
          "text": [
            "Number of trainable variables = 60\n"
          ],
          "name": "stdout"
        }
      ]
    },
    {
      "cell_type": "code",
      "metadata": {
        "id": "CZXpkTxb0NU7",
        "colab_type": "code",
        "outputId": "0f05b051-c407-4455-ceae-5072a0cdcbb6",
        "colab": {
          "base_uri": "https://localhost:8080/",
          "height": 357
        }
      },
      "source": [
        "history_fine = model.fit(train_generator, \n",
        "                         steps_per_epoch=len(train_generator), \n",
        "                         epochs=10, \n",
        "                         validation_data=val_generator, \n",
        "                         validation_steps=len(val_generator))"
      ],
      "execution_count": 0,
      "outputs": [
        {
          "output_type": "stream",
          "text": [
            "Epoch 1/10\n",
            "171/171 [==============================] - 45s 264ms/step - loss: 0.3365 - accuracy: 0.8696 - val_loss: 0.9323 - val_accuracy: 0.7931\n",
            "Epoch 2/10\n",
            "171/171 [==============================] - 45s 262ms/step - loss: 0.2874 - accuracy: 0.8906 - val_loss: 0.9220 - val_accuracy: 0.7854\n",
            "Epoch 3/10\n",
            "171/171 [==============================] - 45s 262ms/step - loss: 0.2495 - accuracy: 0.9015 - val_loss: 0.8639 - val_accuracy: 0.8048\n",
            "Epoch 4/10\n",
            "171/171 [==============================] - 45s 262ms/step - loss: 0.2185 - accuracy: 0.9138 - val_loss: 0.8275 - val_accuracy: 0.8129\n",
            "Epoch 5/10\n",
            "171/171 [==============================] - 45s 263ms/step - loss: 0.1837 - accuracy: 0.9321 - val_loss: 0.8418 - val_accuracy: 0.8140\n",
            "Epoch 6/10\n",
            "171/171 [==============================] - 45s 261ms/step - loss: 0.1597 - accuracy: 0.9409 - val_loss: 0.8213 - val_accuracy: 0.8198\n",
            "Epoch 7/10\n",
            "171/171 [==============================] - 45s 261ms/step - loss: 0.1450 - accuracy: 0.9467 - val_loss: 0.8915 - val_accuracy: 0.8125\n",
            "Epoch 8/10\n",
            "171/171 [==============================] - 45s 262ms/step - loss: 0.1282 - accuracy: 0.9528 - val_loss: 0.8678 - val_accuracy: 0.8136\n",
            "Epoch 9/10\n",
            "171/171 [==============================] - 45s 262ms/step - loss: 0.1121 - accuracy: 0.9575 - val_loss: 0.8820 - val_accuracy: 0.8030\n",
            "Epoch 10/10\n",
            "171/171 [==============================] - 45s 262ms/step - loss: 0.0986 - accuracy: 0.9643 - val_loss: 0.8539 - val_accuracy: 0.8220\n"
          ],
          "name": "stdout"
        }
      ]
    },
    {
      "cell_type": "code",
      "metadata": {
        "id": "6S7IPnxg0P4u",
        "colab_type": "code",
        "outputId": "2f3e5b5c-c793-4441-97d1-ccd82e323e52",
        "colab": {
          "base_uri": "https://localhost:8080/",
          "height": 513
        }
      },
      "source": [
        "acc = history_fine.history['accuracy']\n",
        "val_acc = history_fine.history['val_accuracy']\n",
        "\n",
        "loss = history_fine.history['loss']\n",
        "val_loss = history_fine.history['val_loss']\n",
        "\n",
        "plt.figure(figsize=(8, 8))\n",
        "plt.subplot(2, 1, 1)\n",
        "plt.plot(acc, label='Training Accuracy')\n",
        "plt.plot(val_acc, label='Validation Accuracy')\n",
        "plt.legend(loc='lower right')\n",
        "plt.ylabel('Accuracy')\n",
        "plt.ylim([min(plt.ylim()),1])\n",
        "plt.title('Training and Validation Accuracy')\n",
        "\n",
        "plt.subplot(2, 1, 2)\n",
        "plt.plot(loss, label='Training Loss')\n",
        "plt.plot(val_loss, label='Validation Loss')\n",
        "plt.legend(loc='upper right')\n",
        "plt.ylabel('Cross Entropy')\n",
        "plt.ylim([0,1.0])\n",
        "plt.title('Training and Validation Loss')\n",
        "plt.xlabel('epoch')\n",
        "plt.show()"
      ],
      "execution_count": 0,
      "outputs": [
        {
          "output_type": "display_data",
          "data": {
            "image/png": "[encoded data removed]",
            "text/plain": [
              "<Figure size 576x576 with 2 Axes>"
            ]
          },
          "metadata": {
            "tags": [],
            "needs_background": "light"
          }
        }
      ]
    },
    {
      "cell_type": "markdown",
      "metadata": {
        "id": "-l5cSzPo5XOX",
        "colab_type": "text"
      },
      "source": [
        "## Convert to TFLite"
      ]
    },
    {
      "cell_type": "code",
      "metadata": {
        "id": "HOSm4JbA1UHJ",
        "colab_type": "code",
        "outputId": "d5b30469-099d-4f73-f6a3-a444e5941c2c",
        "colab": {
          "base_uri": "https://localhost:8080/",
          "height": 105
        }
      },
      "source": [
        "saved_model_dir = 'save/fine_tuning'\n",
        "tf.saved_model.save(model, saved_model_dir)\n",
        "\n",
        "converter = tf.lite.TFLiteConverter.from_saved_model(saved_model_dir)\n",
        "tflite_model = converter.convert()\n",
        "\n",
        "with open('model.tflite', 'wb') as f:\n",
        "  f.write(tflite_model)"
      ],
      "execution_count": 0,
      "outputs": [
        {
          "output_type": "stream",
          "text": [
            "WARNING:tensorflow:From /usr/local/lib/python3.6/dist-packages/tensorflow/python/ops/resource_variable_ops.py:1817: calling BaseResourceVariable.__init__ (from tensorflow.python.ops.resource_variable_ops) with constraint is deprecated and will be removed in a future version.\n",
            "Instructions for updating:\n",
            "If using Keras pass *_constraint arguments to layers.\n",
            "INFO:tensorflow:Assets written to: save/fine_tuning/assets\n"
          ],
          "name": "stdout"
        }
      ]
    },
    {
      "cell_type": "code",
      "metadata": {
        "id": "uXfwtH3W5adt",
        "colab_type": "code",
        "colab": {}
      },
      "source": [
        ""
      ],
      "execution_count": 0,
      "outputs": []
    }
  ]
}